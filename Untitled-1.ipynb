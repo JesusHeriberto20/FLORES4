{
 "cells": [
  {
   "cell_type": "code",
   "execution_count": null,
   "metadata": {},
   "outputs": [],
   "source": [
    "#defines la variable \"nombre\" y lo ejecutas con una pregunta\n",
    "nombre = input(\"Ingresa tu nombre: \")\n",
    "#leemos la variable \n",
    "print(nombre)\n",
    "#defines la variable \"apellido\" y lo ejecutas con una pregunta\n",
    "apellido = input(\"Ingresa tu primer apellido: \")\n",
    "#leemos la variable\n",
    "print(apellido)\n",
    "#defines la variable \"edad\" y lo ejecutas con una pregunta\n",
    "edad = input(\"Ingresa tu edad: \")\n",
    "#leemos la variable\n",
    "print(edad)\n",
    "#hacemos que se ejecuten las variables y solo lena las primeras letras que tienen escritas por el usuario siendo [0] el numero del lugar que va a leer \n",
    "# y upper surve para que cualquier palabra escrita sea leida en mayusculas\n",
    "inicial_nombre = nombre[0].upper()\n",
    "inicial_apellido = apellido[0].upper()\n",
    "# Utiliza el formato correcto para concatenar las letras en la CURP\n",
    "curp = f\"{inicial_apellido}{inicial_nombre}{edad}\"\n",
    "print(\"Tu CURP es:\", curp)"
   ]
  }
 ],
 "metadata": {
  "kernelspec": {
   "display_name": "Python 3",
   "language": "python",
   "name": "python3"
  },
  "language_info": {
   "name": "python",
   "version": "3.12.2"
  }
 },
 "nbformat": 4,
 "nbformat_minor": 2
}
